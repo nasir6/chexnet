{
 "cells": [
  {
   "cell_type": "code",
   "execution_count": 2,
   "metadata": {},
   "outputs": [],
   "source": [
    "import matplotlib.pyplot as plt\n",
    "import numpy as np\n"
   ]
  },
  {
   "cell_type": "code",
   "execution_count": 1,
   "metadata": {},
   "outputs": [],
   "source": [
    "paths_sup = [\n",
    "    'checkpoints/10',\n",
    "    'checkpoints/15',\n",
    "    'checkpoints/20',\n",
    "]\n",
    "\n",
    "paths_sup_nf = [\n",
    "    'checkpoints/10_nf',\n",
    "    'checkpoints/15_nf',\n",
    "    'checkpoints/20_nf',\n",
    "]\n",
    "\n",
    "paths_unsup = [\n",
    "    'checkpoints/uda_with_10',\n",
    "    'checkpoints/uda_with_15',\n",
    "    'checkpoints/uda_with_20',\n",
    "]\n",
    "\n",
    "\n",
    "paths_unsup_nf = [\n",
    "    'checkpoints/uda_with_10_nf',\n",
    "    'checkpoints/uda_with_15_nf',\n",
    "    'checkpoints/uda_with_20_nf',\n",
    "]\n"
   ]
  },
  {
   "cell_type": "code",
   "execution_count": null,
   "metadata": {},
   "outputs": [],
   "source": [
    "sup_values = []\n",
    "unsup_values = []\n",
    "\n",
    "sup_values_nf = []\n",
    "unsup_values_nf = []\n",
    "\n",
    "for path in paths_sup:\n",
    "    sup_values.append(np.load(f\"{path}/test_auroc_mean.npy\")[0])\n",
    "\n",
    "for path in paths_unsup:\n",
    "    unsup_values.append(np.load(f\"{path}/test_auroc_mean.npy\")[0])\n",
    "    \n",
    "for path in paths_sup_nf:\n",
    "    sup_values_nf.append(np.load(f\"{path}/test_auroc_mean.npy\")[0])\n",
    "\n",
    "for path in paths_unsup_nf:\n",
    "    unsup_values_nf.append(np.load(f\"{path}/test_auroc_mean.npy\")[0])\n",
    "\n",
    "    "
   ]
  },
  {
   "cell_type": "code",
   "execution_count": null,
   "metadata": {},
   "outputs": [],
   "source": [
    "data_ratios = [10, 15, 20]"
   ]
  },
  {
   "cell_type": "code",
   "execution_count": null,
   "metadata": {},
   "outputs": [],
   "source": [
    "colors = ['#8a2244', '#da8c22', '#c687d5', '#80d6f8', '#440f06', '#000075', '#000000']\n",
    "fig = plt.figure(figsize=(8, 7))\n",
    "\n",
    "# plt.title('Receiver Operating Characteristic')\n",
    "plt.plot(sup_values, colors[0], label = 'Sup')\n",
    "plt.plot(unsup_values, colors[1], label = 'Semi Sup')\n",
    "\n",
    "plt.legend(loc = 'lower right', )\n",
    "plt.ylabel('AUROC Mean')\n",
    "plt.xlabel('% Labelled Examples')\n",
    "plt.xticks([0, 1, 2], [10, 15, 20])\n",
    "fig.savefig(f'plots/Comparison.pdf')"
   ]
  },
  {
   "cell_type": "code",
   "execution_count": null,
   "metadata": {},
   "outputs": [],
   "source": [
    "colors = ['#8a2244', '#da8c22', '#c687d5', '#80d6f8', '#440f06', '#000075', '#000000']\n",
    "fig = plt.figure(figsize=(8, 7))\n",
    "\n",
    "# plt.title('Receiver Operating Characteristic')\n",
    "plt.plot(sup_values_nf, colors[0], label = 'Sup')\n",
    "plt.plot(unsup_values_nf, colors[1], label = 'Semi Sup')\n",
    "\n",
    "plt.legend(loc = 'lower right', )\n",
    "plt.ylabel('AUROC Mean')\n",
    "plt.xlabel('% Labelled Examples')\n",
    "plt.xticks([0, 1, 2], [10, 15, 20])\n",
    "fig.savefig(f'plots/Comparison_nf.pdf')"
   ]
  },
  {
   "cell_type": "code",
   "execution_count": null,
   "metadata": {},
   "outputs": [],
   "source": []
  }
 ],
 "metadata": {
  "kernelspec": {
   "display_name": "Python [conda env:xrays]",
   "language": "python",
   "name": "conda-env-xrays-py"
  },
  "language_info": {
   "codemirror_mode": {
    "name": "ipython",
    "version": 3
   },
   "file_extension": ".py",
   "mimetype": "text/x-python",
   "name": "python",
   "nbconvert_exporter": "python",
   "pygments_lexer": "ipython3",
   "version": "3.6.9"
  }
 },
 "nbformat": 4,
 "nbformat_minor": 2
}
